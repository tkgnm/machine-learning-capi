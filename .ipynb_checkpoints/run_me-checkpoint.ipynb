{
 "cells": [
  {
   "cell_type": "code",
   "execution_count": 2,
   "metadata": {},
   "outputs": [],
   "source": [
    "import json\n",
    "import re\n",
    "from sklearn.feature_extraction.text import TfidfVectorizer\n",
    "import numpy as np     \n",
    "import random"
   ]
  },
  {
   "cell_type": "markdown",
   "metadata": {},
   "source": [
    "## Import the data\n",
    " \n",
    "We have five JSON files to parse. Each file is a batch of articles and their associated metadata from The Guardian's Content API (CAPI). With a free developer key, we are limited to only 200 articles per request. With a total of five downloads, this brings the total to 1000 on which we can use. If you'd like to query the API yourself, this repo contains an example query in a .txt file. You can sign up for your own developer key at https://open-platform.theguardian.com/ "
   ]
  },
  {
   "cell_type": "markdown",
   "metadata": {},
   "source": [
    "The JSON files contain many fields that could be useful for the purposes of machine learning. However, we will focus on the following fields for now:\n",
    "\n",
    "- trailtext \n",
    "- headline\n",
    "- body (this is the data we will use for machine learning, the above two merely provide context)\n",
    "\n",
    "We can experiment with the metadata later (such as tags, author etc). Let's initialise our arrays and append with each article's relevant field."
   ]
  },
  {
   "cell_type": "code",
   "execution_count": 3,
   "metadata": {},
   "outputs": [],
   "source": [
    "files = [\"search_0.json\", \"search_1.json\", \"search_2.json\", \"search_3.json\", \"search_4.json\"]\n",
    "\n",
    "headline = []\n",
    "trailText = []\n",
    "body = []\n",
    "\n",
    "for file in files:\n",
    "        \n",
    "    # Opening JSON file\n",
    "    f = open(\"articles/\" + file)\n",
    "    \n",
    "    # returns JSON object as \n",
    "    # a dictionary\n",
    "    data = json.load(f)\n",
    "        \n",
    "    #this is the data that we actually care about\n",
    "    articles = data['response']['results']\n",
    "\n",
    "    for i in range(len(articles)):\n",
    "        headline.append((articles[i][\"fields\"][\"headline\"]))\n",
    "        trailText.append((articles[i][\"fields\"][\"trailText\"]))\n",
    "        body.append((articles[i][\"fields\"][\"body\"]))\n",
    "\n"
   ]
  },
  {
   "cell_type": "markdown",
   "metadata": {},
   "source": [
    "Sanity check the lengths"
   ]
  },
  {
   "cell_type": "code",
   "execution_count": 4,
   "metadata": {},
   "outputs": [
    {
     "data": {
      "text/plain": [
       "(1000, 1000, 1000)"
      ]
     },
     "execution_count": 4,
     "metadata": {},
     "output_type": "execute_result"
    }
   ],
   "source": [
    "len(headline), len(trailText), len(body)\n"
   ]
  },
  {
   "cell_type": "markdown",
   "metadata": {},
   "source": [
    "## Preprocessing the data\n",
    "\n",
    "We should now clean the data as some of the fields contain HTML (which we don't want). "
   ]
  },
  {
   "cell_type": "code",
   "execution_count": 5,
   "metadata": {},
   "outputs": [],
   "source": [
    "# body[1]"
   ]
  },
  {
   "cell_type": "code",
   "execution_count": 6,
   "metadata": {},
   "outputs": [],
   "source": [
    "htmlRemover = re.compile('<.*?>') \n",
    "newlineRemover = '\\n'\n",
    "\n",
    "# as per recommendation from @freylis, compile once only\n",
    "\n",
    "def cleanhtml(raw_html):\n",
    "    cleantext = re.sub(htmlRemover, '', raw_html)\n",
    "    cleantext = re.sub(newlineRemover, '', cleantext)\n",
    "    return cleantext\n",
    "\n",
    "  "
   ]
  },
  {
   "cell_type": "code",
   "execution_count": 7,
   "metadata": {},
   "outputs": [],
   "source": [
    "cleanTrailText = []\n",
    "cleanBody = []\n",
    "\n",
    "for i in range(len(body)):\n",
    "    cleanTrailText.append(cleanhtml(trailText[i]))\n",
    "    cleanBody.append(cleanhtml(body[i]))"
   ]
  },
  {
   "cell_type": "code",
   "execution_count": 8,
   "metadata": {},
   "outputs": [],
   "source": [
    "# cleanBody[1]"
   ]
  },
  {
   "cell_type": "markdown",
   "metadata": {},
   "source": [
    "## Transform the articles into a sparse matrix based on similarity"
   ]
  },
  {
   "cell_type": "markdown",
   "metadata": {},
   "source": [
    "But first ofcourse, we need to perform a tf-idf transformation"
   ]
  },
  {
   "cell_type": "code",
   "execution_count": 9,
   "metadata": {},
   "outputs": [],
   "source": [
    "vect = TfidfVectorizer(min_df=1, stop_words=\"english\")                                                                                                                                                                                                   \n",
    "tfidf = vect.fit_transform(cleanBody)                                                                                                                                                                                                                       \n",
    "pairwise_similarity = tfidf * tfidf.T "
   ]
  },
  {
   "cell_type": "code",
   "execution_count": 10,
   "metadata": {},
   "outputs": [
    {
     "data": {
      "text/plain": [
       "<1000x40735 sparse matrix of type '<class 'numpy.float64'>'\n",
       "\twith 339334 stored elements in Compressed Sparse Row format>"
      ]
     },
     "execution_count": 10,
     "metadata": {},
     "output_type": "execute_result"
    }
   ],
   "source": [
    "tfidf"
   ]
  },
  {
   "cell_type": "code",
   "execution_count": 11,
   "metadata": {},
   "outputs": [],
   "source": [
    "#necessary for ensuring we don't just return the same article\n",
    "arr = pairwise_similarity.toarray()     \n",
    "np.fill_diagonal(arr, np.nan)     "
   ]
  },
  {
   "cell_type": "markdown",
   "metadata": {},
   "source": [
    "## Did it work? Let's find out!\n",
    "\n",
    "Let's draw 10 random articles and find the most similar for each one."
   ]
  },
  {
   "cell_type": "code",
   "execution_count": 12,
   "metadata": {},
   "outputs": [
    {
     "name": "stdout",
     "output_type": "stream",
     "text": [
      "1:\n",
      "SAVE FOR LATER ARTICLE: Fifa criticised after clearing women’s football coach of sexual harassment \n",
      "Fifpro has said the Fifa ethics committee’s decision to not sanction an Argentinian women’s football coach accused of sexual harassment and abusive behaviour raises ‘extremely serious questions’\n",
      "\n",
      "\n",
      "RECOMMENDED ARTICLE: Overload risks footballers’ health, study finds, as Salah and Mané face game 70\n",
      "A culture of overload in elite men’s football is putting players’ health at risk, a new Fifpro study has found, days before the Champions League final\n",
      "Similarity score: 0.225\n",
      "___________\n",
      "2:\n",
      "SAVE FOR LATER ARTICLE: ‘Like them, we’re fragile’: how Randall Poster assembled his star-packed birdsong project\n",
      "The esteemed music supervisor enlisted stars such as Mark Ronson, Nick Cave, Beck, Sean Penn and Tilda Swinton for an ambitious new project\n",
      "\n",
      "\n",
      "RECOMMENDED ARTICLE: The Guardian view on swallows and swifts: nature’s messengers\n",
      "<strong>Editorial:</strong> Migrant birds carry information around the globe. When their arrival is delayed, we should worry\n",
      "Similarity score: 0.252\n",
      "___________\n",
      "3:\n",
      "SAVE FOR LATER ARTICLE: Why giving your employees a piece of the pie could boost your business\n",
      "Employee Stock Ownership Plans hold over $1.6tn in assets and can make a more profitable company and a better place to work\n",
      "\n",
      "\n",
      "RECOMMENDED ARTICLE: Snapchat developer’s profit warning sends social media stocks tumbling\n",
      "Snap Inc’s shares fall nearly 40% in early trading as fears grow over global downturn\n",
      "Similarity score: 0.146\n",
      "___________\n",
      "4:\n",
      "SAVE FOR LATER ARTICLE: Pep Guardiola and Manchester City’s sky blue wash will define this era\n",
      "The manager has become central to Manchester City’s approach of setting about elite sport like a political project\n",
      "\n",
      "\n",
      "RECOMMENDED ARTICLE: Trust, stability and breakfast chats: how Guardiola delivered another title\n",
      "Manchester City are set up to serve their manager, and close contact with key club figures is pivotal to his happiness\n",
      "Similarity score: 0.432\n",
      "___________\n",
      "5:\n",
      "SAVE FOR LATER ARTICLE: ‘How did he get away with this?’ What the papers say about new Johnson Partygate photos\n",
      "Boris Johnson shown raising a glass at event during a national Covid lockdown, in newly released photos\n",
      "\n",
      "\n",
      "RECOMMENDED ARTICLE: ‘Failure of leadership’: what the papers say about Johnson and the Sue Gray Partygate report \n",
      "Many front pages take Boris Johnson to task for the lockdown-busting gatherings, but others try to draw a line under the affair\n",
      "Similarity score: 0.569\n",
      "___________\n",
      "6:\n",
      "SAVE FOR LATER ARTICLE: England’s care system is failing children. This new overhaul is based on a middle-class fantasy\n",
      "A new review passes the buck for children’s care on to the ‘community’, says social worker Rebekah Pierre\n",
      "\n",
      "\n",
      "RECOMMENDED ARTICLE: Overhaul of children’s social care in England urgent and unavoidable, review finds\n",
      "Root-and-branch review calls for five-year, £2.6bn programme to reform a system that is under ‘extreme stress’\n",
      "Similarity score: 0.493\n",
      "___________\n",
      "7:\n",
      "SAVE FOR LATER ARTICLE: Circa: Sacre review – an original and awesome Stravinsky reboot\n",
      "Australian circus group Circa debuts a beautifully detailed interpretation of The Rite of Spring\n",
      "\n",
      "\n",
      "RECOMMENDED ARTICLE: ‘Shake it and see what happens’: the confounding world of James Thierrée\n",
      "The circus star turns singer in his new show, Room, which is designed to embrace chaos. He talks about the mystery of theatre and his movie missions\n",
      "Similarity score: 0.07\n",
      "___________\n",
      "8:\n",
      "SAVE FOR LATER ARTICLE: Davos day 3: WTO says food crisis could last two more years without Ukrainian safe corridors – as it happened\n",
      "Rolling coverage of the day 3 of the World Economic Forum\n",
      "\n",
      "\n",
      "RECOMMENDED ARTICLE: Davos day one: Zelenskiy calls for maximum sanctions against Russia; recession fears on the rise – business live\n",
      "Rolling coverage of the first day of the World Economic Forum in Davos\n",
      "Similarity score: 0.584\n",
      "___________\n",
      "9:\n",
      "SAVE FOR LATER ARTICLE: Why Brad Raffensperger’s victory in Georgia’s primary is surprising\n",
      "As late as a few weeks ago, it was widely believed he would face an uphill battle against Trump-backed Jody Hice\n",
      "\n",
      "\n",
      "RECOMMENDED ARTICLE: Brad Raffensperger defeats Trump bid to oust him as Georgia’s top election official\n",
      "The secretary of state had been excoriated by many in the GOP for refusing to help overturn the 2020 election\n",
      "Similarity score: 0.66\n",
      "___________\n"
     ]
    }
   ],
   "source": [
    "for x in range(1, 10):\n",
    "\n",
    "    i = random.randint(0,1000)                                                                                                                                                                                                                                                                                                                                                                                                                                  \n",
    "\n",
    "    input_doc = cleanBody[i]                                                                                                                                                                                                 \n",
    "    input_idx = cleanBody.index(input_doc)                                                                                                                                                                                                                      \n",
    "    input_idx                                                                                                                                                                                                                                              \n",
    "    result_idx = np.nanargmax(arr[input_idx]) \n",
    "    print(\"{}:\".format(x))\n",
    "    print(\"SAVE FOR LATER ARTICLE: {}\".format(headline[i]))\n",
    "    print(\"{}\".format(trailText[i]))\n",
    "\n",
    "    print(\"\\n\")\n",
    "    # print(\"cleanBody[result_idx]   \n",
    "\n",
    "    print(\"RECOMMENDED ARTICLE: {}\".format(headline[result_idx]))\n",
    "    print(\"{}\".format(trailText[result_idx]))\n",
    "    similarity_score = round(arr[input_idx,result_idx], 3)\n",
    "    print(\"Similarity score: {}\".format(similarity_score))\n",
    "    print(\"___________\")\n",
    "\n"
   ]
  }
 ],
 "metadata": {
  "kernelspec": {
   "display_name": "ml_capi",
   "language": "python",
   "name": "ml_capi"
  },
  "language_info": {
   "codemirror_mode": {
    "name": "ipython",
    "version": 3
   },
   "file_extension": ".py",
   "mimetype": "text/x-python",
   "name": "python",
   "nbconvert_exporter": "python",
   "pygments_lexer": "ipython3",
   "version": "3.10.4"
  },
  "vscode": {
   "interpreter": {
    "hash": "f7d5f047caa9781d537157614e3e4bf0ff375ed37ad5b7d2efb2a07d188de358"
   }
  }
 },
 "nbformat": 4,
 "nbformat_minor": 4
}
