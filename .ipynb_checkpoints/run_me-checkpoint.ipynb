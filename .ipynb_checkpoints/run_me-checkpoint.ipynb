{
 "cells": [
  {
   "cell_type": "code",
   "execution_count": 1,
   "metadata": {},
   "outputs": [],
   "source": [
    "import json\n",
    "import re\n",
    "from sklearn.feature_extraction.text import TfidfVectorizer\n",
    "import numpy as np     \n",
    "import random"
   ]
  },
  {
   "cell_type": "markdown",
   "metadata": {},
   "source": [
    "## Import the data\n",
    " \n",
    "We have five JSON files to parse. Each file is a batch of articles and their associated metadata from The Guardian's Content API (CAPI). With a free developer key, we are limited to only 200 articles per request. With a total of five downloads, this brings the total to 1000 on which we can use. If you'd like to query the API yourself, this repo contains an example query in a .txt file. You can sign up for your own developer key at https://open-platform.theguardian.com/ "
   ]
  },
  {
   "cell_type": "markdown",
   "metadata": {},
   "source": [
    "The JSON files contain many fields that could be useful for the purposes of machine learning. However, we will focus on the following fields for now:\n",
    "\n",
    "- trailtext \n",
    "- headline\n",
    "- body (this is the data we will use for machine learning, the above two merely provide context)\n",
    "\n",
    "We can experiment with the metadata later (such as tags, author etc). Let's initialise our arrays and append with each article's relevant field."
   ]
  },
  {
   "cell_type": "code",
   "execution_count": 2,
   "metadata": {},
   "outputs": [
    {
     "name": "stdout",
     "output_type": "stream",
     "text": [
      "1000\n"
     ]
    }
   ],
   "source": [
    "import json\n",
    "\n",
    "files = [\"search_0.json\", \"search_1.json\", \"search_2.json\", \"search_3.json\", \"search_4.json\"]\n",
    "\n",
    "results = []\n",
    "\n",
    "for file in files:\n",
    "        \n",
    "    # Opening JSON file\n",
    "    f = open(\"articles/\" + file)\n",
    "    \n",
    "    # returns JSON object as \n",
    "    # a dictionary\n",
    "    # print(data)\n",
    "    data = json.load(f)\n",
    "    \n",
    "    # print((data[\"response\"][\"results\"][0]))\n",
    "    \n",
    "    data = data[\"response\"][\"results\"]\n",
    "    \n",
    "    for item in data:\n",
    "        results.append(data)\n",
    "        \n",
    "print (len(results))"
   ]
  },
  {
   "cell_type": "code",
   "execution_count": 4,
   "metadata": {},
   "outputs": [],
   "source": [
    "files = [\"search_0.json\", \"search_1.json\", \"search_2.json\", \"search_3.json\", \"search_4.json\"]\n",
    "\n",
    "headline = []\n",
    "trailText = []\n",
    "body = []\n",
    "\n",
    "for file in files:\n",
    "        \n",
    "    # Opening JSON file\n",
    "    f = open(\"articles/\" + file)\n",
    "    \n",
    "    # returns JSON object as \n",
    "    # a dictionary\n",
    "    data = json.load(f)\n",
    "        \n",
    "    #this is the data that we actually care about\n",
    "    articles = data['response']['results']\n",
    "\n",
    "    for i in range(len(articles)):\n",
    "        headline.append((articles[i][\"fields\"][\"headline\"]))\n",
    "        trailText.append((articles[i][\"fields\"][\"trailText\"]))\n",
    "        body.append((articles[i][\"fields\"][\"body\"]))\n",
    "\n"
   ]
  },
  {
   "cell_type": "markdown",
   "metadata": {},
   "source": [
    "Sanity check the lengths"
   ]
  },
  {
   "cell_type": "code",
   "execution_count": 5,
   "metadata": {},
   "outputs": [
    {
     "data": {
      "text/plain": [
       "(1000, 1000, 1000)"
      ]
     },
     "execution_count": 5,
     "metadata": {},
     "output_type": "execute_result"
    }
   ],
   "source": [
    "len(headline), len(trailText), len(body)"
   ]
  },
  {
   "cell_type": "markdown",
   "metadata": {},
   "source": [
    "## Preprocessing the data\n",
    "\n",
    "We should now clean the data as some of the fields contain HTML (which we don't want). "
   ]
  },
  {
   "cell_type": "code",
   "execution_count": 4,
   "metadata": {},
   "outputs": [],
   "source": [
    "# body[1]"
   ]
  },
  {
   "cell_type": "code",
   "execution_count": 5,
   "metadata": {},
   "outputs": [],
   "source": [
    "htmlRemover = re.compile('<.*?>') \n",
    "newlineRemover = '\\n'\n",
    "\n",
    "# as per recommendation from @freylis, compile once only\n",
    "\n",
    "def cleanhtml(raw_html):\n",
    "    cleantext = re.sub(htmlRemover, '', raw_html)\n",
    "    cleantext = re.sub(newlineRemover, '', cleantext)\n",
    "    return cleantext\n",
    "\n",
    "  "
   ]
  },
  {
   "cell_type": "code",
   "execution_count": 6,
   "metadata": {},
   "outputs": [],
   "source": [
    "cleanTrailText = []\n",
    "cleanBody = []\n",
    "\n",
    "for i in range(len(body)):\n",
    "    cleanTrailText.append(cleanhtml(trailText[i]))\n",
    "    cleanBody.append(cleanhtml(body[i]))"
   ]
  },
  {
   "cell_type": "code",
   "execution_count": 7,
   "metadata": {},
   "outputs": [],
   "source": [
    "# cleanBody[1]"
   ]
  },
  {
   "cell_type": "markdown",
   "metadata": {},
   "source": [
    "## Transform the articles into a sparse matrix based on similarity"
   ]
  },
  {
   "cell_type": "markdown",
   "metadata": {},
   "source": [
    "But first ofcourse, we need to perform a tf-idf transformation"
   ]
  },
  {
   "cell_type": "code",
   "execution_count": 8,
   "metadata": {},
   "outputs": [],
   "source": [
    "vect = TfidfVectorizer(min_df=1, stop_words=\"english\")                                                                                                                                                                                                   \n",
    "tfidf = vect.fit_transform(cleanBody)                                                                                                                                                                                                                       \n",
    "pairwise_similarity = tfidf * tfidf.T "
   ]
  },
  {
   "cell_type": "code",
   "execution_count": 9,
   "metadata": {},
   "outputs": [
    {
     "data": {
      "text/plain": [
       "<1000x40735 sparse matrix of type '<class 'numpy.float64'>'\n",
       "\twith 339334 stored elements in Compressed Sparse Row format>"
      ]
     },
     "execution_count": 9,
     "metadata": {},
     "output_type": "execute_result"
    }
   ],
   "source": [
    "tfidf"
   ]
  },
  {
   "cell_type": "code",
   "execution_count": 10,
   "metadata": {},
   "outputs": [],
   "source": [
    "#necessary for ensuring we don't just return the same article\n",
    "arr = pairwise_similarity.toarray()     \n",
    "np.fill_diagonal(arr, np.nan)     "
   ]
  },
  {
   "cell_type": "markdown",
   "metadata": {},
   "source": [
    "## Did it work? Let's find out!\n",
    "\n",
    "Let's draw 10 random articles and find the most similar for each one."
   ]
  },
  {
   "cell_type": "code",
   "execution_count": 11,
   "metadata": {},
   "outputs": [
    {
     "name": "stdout",
     "output_type": "stream",
     "text": [
      "1:\n",
      "SAVE FOR LATER ARTICLE: Amanda Gorman decries US inaction on gun violence in poem after Texas school shooting\n",
      "The poet, who performed at the inauguration of Joe Biden, says to ‘do nothing isn’t just insanity – it’s inhumanity’\n",
      "\n",
      "\n",
      "RECOMMENDED ARTICLE: Biden calls for action on gun laws after 21 killed in Texas school shooting – as it happened\n",
      "Three children, aged eight and 10, have been named; US president Joe Biden called for ‘common sense’ legislation after school massacre\n",
      "Similarity score: 0.469\n",
      "___________\n",
      "2:\n",
      "SAVE FOR LATER ARTICLE: Biden calls for action on gun laws after 21 killed in Texas school shooting – as it happened\n",
      "Three children, aged eight and 10, have been named; US president Joe Biden called for ‘common sense’ legislation after school massacre\n",
      "\n",
      "\n",
      "RECOMMENDED ARTICLE:  Texas school shooting: gunman was inside for 40 minutes, officials say – updates as they happened\n",
      "Texas governor and local officials share more details about the shooting at the Robb elementary school in Uvalde\n",
      "Similarity score: 0.798\n",
      "___________\n",
      "3:\n",
      "SAVE FOR LATER ARTICLE: How No 10’s alleged parties took place as UK Covid death toll rose – interactive\n",
      "A timeline of alleged lockdown parties and UK deaths, what Covid rules were in place at the time and what Boris Johnson said\n",
      "\n",
      "\n",
      "RECOMMENDED ARTICLE: Partygate: pictures emerge showing Boris Johnson drinking at No 10 leaving do during lockdown – as it happened\n",
      "Latest updates: ITV obtains photographs of Boris Johnson drinking at a Downing Street event that appears to be a party\n",
      "Similarity score: 0.298\n",
      "___________\n",
      "4:\n",
      "SAVE FOR LATER ARTICLE: ‘Evil will not win’: sorrow and disbelief as Uvalde mourns its children\n",
      "Town comes together to try to come to terms with horrific attack in which 19 young children and two teachers were killed\n",
      "\n",
      "\n",
      "RECOMMENDED ARTICLE: Biden calls for action on gun laws after 21 killed in Texas school shooting – as it happened\n",
      "Three children, aged eight and 10, have been named; US president Joe Biden called for ‘common sense’ legislation after school massacre\n",
      "Similarity score: 0.48\n",
      "___________\n",
      "5:\n",
      "SAVE FOR LATER ARTICLE: Partygate: pictures emerge showing Boris Johnson drinking at No 10 leaving do during lockdown – as it happened\n",
      "Latest updates: ITV obtains photographs of Boris Johnson drinking at a Downing Street event that appears to be a party\n",
      "\n",
      "\n",
      "RECOMMENDED ARTICLE: Partygate live: Boris Johnson says no plan to resign over Sue Gray report despite Tory MP calling for him to step down – as it happened \n",
      "Prime minister feels it is his ‘job to get on with my job’ despite report detailing major leadership failures at No 10\n",
      "Similarity score: 0.751\n",
      "___________\n",
      "6:\n",
      "SAVE FOR LATER ARTICLE: A slice of Silicon Valley – inside the RCA’s colossal new £135m building\n",
      "The Royal College of Art’s brutalist new building – by architects Herzog &amp; de Meuron – reflects a shift from art school to science-tech powerhouse. But is a business-facing behemoth what its students really need?<br>\n",
      "\n",
      "\n",
      "RECOMMENDED ARTICLE: How the US student loan debt crisis started — and how it could end\n",
      "What to do about the debt has become a hot political issues as midterm elections approach\n",
      "Similarity score: 0.21\n",
      "___________\n",
      "7:\n",
      "SAVE FOR LATER ARTICLE: Anthony Albanese in Tokyo for tense Quad talks after Joe Biden says US would defend Taiwan\n",
      "Labor leader in tight position after China said dialogue with US, India and Japan would be test of new Australian prime minister’s ‘political wisdom’\n",
      "\n",
      "\n",
      "RECOMMENDED ARTICLE: Albanese insists ‘we will determine our values’ after Chinese premier reaches out to new PM\n",
      "Prime minister in Tokyo says there is ‘no justification’ for China’s trade sanctions against Australia and ‘they should be removed’\n",
      "Similarity score: 0.613\n",
      "___________\n",
      "8:\n",
      "SAVE FOR LATER ARTICLE: Kate Moss testifies that Johnny Depp did not push her down stairs\n",
      "Supermodel, 48, tells court in three-minute appearance that she and Depp had been in romantic relationship between 1994 and 1998\n",
      "\n",
      "\n",
      "RECOMMENDED ARTICLE: Judge rejects Depp bid to dismiss Heard counter-suit as Kate Moss set to testify\n",
      "Heard has met threshold for case to continue, judge rules a day before Moss, Depp’s ex-girlfriend, is to be called as a witness\n",
      "Similarity score: 0.739\n",
      "___________\n",
      "9:\n",
      "SAVE FOR LATER ARTICLE: From bored goldfish to sexist dogs: 13 common pet problems - solved!\n",
      "Does your rabbit chew the table legs? Are your gerbils constantly squabbling? Our crack squad of animal behaviourists are here to help<br>\n",
      "\n",
      "\n",
      "RECOMMENDED ARTICLE: Shiny but deadly – don’t throw goldfish in rivers, pet owners told\n",
      "Unwanted lockdown goldfish pose a triple threat to native species in UK waterways, study reveals\n",
      "Similarity score: 0.222\n",
      "___________\n"
     ]
    }
   ],
   "source": [
    "for x in range(1, 10):\n",
    "\n",
    "    i = random.randint(0,1000)                                                                                                                                                                                                                                                                                                                                                                                                                                  \n",
    "\n",
    "    input_doc = cleanBody[i]                                                                                                                                                                                                 \n",
    "    input_idx = cleanBody.index(input_doc)                                                                                                                                                                                                                      \n",
    "    input_idx                                                                                                                                                                                                                                              \n",
    "    result_idx = np.nanargmax(arr[input_idx]) \n",
    "    print(\"{}:\".format(x))\n",
    "    print(\"SAVE FOR LATER ARTICLE: {}\".format(headline[i]))\n",
    "    print(\"{}\".format(trailText[i]))\n",
    "\n",
    "    print(\"\\n\")\n",
    "    # print(\"cleanBody[result_idx]   \n",
    "\n",
    "    print(\"RECOMMENDED ARTICLE: {}\".format(headline[result_idx]))\n",
    "    print(\"{}\".format(trailText[result_idx]))\n",
    "    similarity_score = round(arr[input_idx,result_idx], 3)\n",
    "    print(\"Similarity score: {}\".format(similarity_score))\n",
    "    print(\"___________\")\n",
    "\n"
   ]
  },
  {
   "cell_type": "code",
   "execution_count": null,
   "metadata": {},
   "outputs": [],
   "source": []
  }
 ],
 "metadata": {
  "kernelspec": {
   "display_name": "ml_capi",
   "language": "python",
   "name": "ml_capi"
  },
  "language_info": {
   "codemirror_mode": {
    "name": "ipython",
    "version": 3
   },
   "file_extension": ".py",
   "mimetype": "text/x-python",
   "name": "python",
   "nbconvert_exporter": "python",
   "pygments_lexer": "ipython3",
   "version": "3.10.4"
  },
  "vscode": {
   "interpreter": {
    "hash": "f7d5f047caa9781d537157614e3e4bf0ff375ed37ad5b7d2efb2a07d188de358"
   }
  }
 },
 "nbformat": 4,
 "nbformat_minor": 4
}
