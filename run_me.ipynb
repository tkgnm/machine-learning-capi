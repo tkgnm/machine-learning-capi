{
 "cells": [
  {
   "cell_type": "code",
   "execution_count": 1,
   "metadata": {},
   "outputs": [],
   "source": [
    "import json\n",
    "import re\n",
    "from sklearn.feature_extraction.text import TfidfVectorizer\n",
    "import numpy as np     \n",
    "import random"
   ]
  },
  {
   "cell_type": "markdown",
   "metadata": {},
   "source": [
    "## Import the data\n",
    " \n",
    "We have five JSON files to parse. Each file is a batch of articles and their associated metadata from The Guardian's Content API (CAPI). With a free developer key, we are limited to only 200 articles per request. With a total of five downloads, this brings the total to 1000 on which we can use. If you'd like to query the API yourself, this repo contains an example query in a .txt file. You can sign up for your own developer key at https://open-platform.theguardian.com/ "
   ]
  },
  {
   "cell_type": "markdown",
   "metadata": {},
   "source": [
    "The JSON files contain many fields that could be useful for the purposes of machine learning. However, we will focus on the following fields for now:\n",
    "\n",
    "- trailtext \n",
    "- headline\n",
    "- body (this is the data we will use for machine learning, the above two merely provide context)\n",
    "\n",
    "We can experiment with the metadata later (such as tags, author etc). Let's initialise our arrays and append with each article's relevant field."
   ]
  },
  {
   "cell_type": "code",
   "execution_count": 2,
   "metadata": {},
   "outputs": [
    {
     "name": "stdout",
     "output_type": "stream",
     "text": [
      "1000\n"
     ]
    }
   ],
   "source": [
    "import json\n",
    "\n",
    "files = [\"search_0.json\", \"search_1.json\", \"search_2.json\", \"search_3.json\", \"search_4.json\"]\n",
    "\n",
    "results = []\n",
    "\n",
    "for file in files:\n",
    "        \n",
    "    # Opening JSON file\n",
    "    f = open(\"articles/\" + file)\n",
    "    \n",
    "    # returns JSON object as \n",
    "    # a dictionary\n",
    "    # print(data)\n",
    "    data = json.load(f)\n",
    "    \n",
    "    # print((data[\"response\"][\"results\"][0]))\n",
    "    \n",
    "    data = data[\"response\"][\"results\"]\n",
    "    \n",
    "    for item in data:\n",
    "        results.append(data)\n",
    "        \n",
    "print (len(results))"
   ]
  },
  {
   "cell_type": "code",
   "execution_count": 4,
   "metadata": {},
   "outputs": [],
   "source": [
    "files = [\"search_0.json\", \"search_1.json\", \"search_2.json\", \"search_3.json\", \"search_4.json\"]\n",
    "\n",
    "headline = []\n",
    "trailText = []\n",
    "body = []\n",
    "\n",
    "for file in files:\n",
    "        \n",
    "    # Opening JSON file\n",
    "    f = open(\"articles/\" + file)\n",
    "    \n",
    "    # returns JSON object as \n",
    "    # a dictionary\n",
    "    data = json.load(f)\n",
    "        \n",
    "    #this is the data that we actually care about\n",
    "    articles = data['response']['results']\n",
    "\n",
    "    for i in range(len(articles)):\n",
    "        headline.append((articles[i][\"fields\"][\"headline\"]))\n",
    "        trailText.append((articles[i][\"fields\"][\"trailText\"]))\n",
    "        body.append((articles[i][\"fields\"][\"body\"]))\n",
    "\n"
   ]
  },
  {
   "cell_type": "markdown",
   "metadata": {},
   "source": [
    "Sanity check the lengths"
   ]
  },
  {
   "cell_type": "code",
   "execution_count": 5,
   "metadata": {},
   "outputs": [
    {
     "data": {
      "text/plain": [
       "(1000, 1000, 1000)"
      ]
     },
     "execution_count": 5,
     "metadata": {},
     "output_type": "execute_result"
    }
   ],
   "source": [
    "len(headline), len(trailText), len(body)"
   ]
  },
  {
   "cell_type": "markdown",
   "metadata": {},
   "source": [
    "## Preprocessing the data\n",
    "\n",
    "We should now clean the data as some of the fields contain HTML (which we don't want). "
   ]
  },
  {
   "cell_type": "code",
   "execution_count": 6,
   "metadata": {},
   "outputs": [],
   "source": [
    "# body[1]"
   ]
  },
  {
   "cell_type": "code",
   "execution_count": 7,
   "metadata": {},
   "outputs": [],
   "source": [
    "htmlRemover = re.compile('<.*?>') \n",
    "newlineRemover = '\\n'\n",
    "\n",
    "# as per recommendation from @freylis, compile once only\n",
    "\n",
    "def cleanhtml(raw_html):\n",
    "    cleantext = re.sub(htmlRemover, '', raw_html)\n",
    "    cleantext = re.sub(newlineRemover, '', cleantext)\n",
    "    return cleantext\n",
    "\n",
    "  "
   ]
  },
  {
   "cell_type": "code",
   "execution_count": 8,
   "metadata": {},
   "outputs": [],
   "source": [
    "cleanTrailText = []\n",
    "cleanBody = []\n",
    "\n",
    "for i in range(len(body)):\n",
    "    cleanTrailText.append(cleanhtml(trailText[i]))\n",
    "    cleanBody.append(cleanhtml(body[i]))"
   ]
  },
  {
   "cell_type": "code",
   "execution_count": 9,
   "metadata": {},
   "outputs": [],
   "source": [
    "# cleanBody[1]"
   ]
  },
  {
   "cell_type": "markdown",
   "metadata": {},
   "source": [
    "## Transform the articles into a sparse matrix based on similarity"
   ]
  },
  {
   "cell_type": "markdown",
   "metadata": {},
   "source": [
    "But first ofcourse, we need to perform a tf-idf transformation"
   ]
  },
  {
   "cell_type": "code",
   "execution_count": 10,
   "metadata": {},
   "outputs": [],
   "source": [
    "vect = TfidfVectorizer(min_df=1, stop_words=\"english\")                                                                                                                                                                                                   \n",
    "tfidf = vect.fit_transform(cleanBody)                                                                                                                                                                                                                       \n",
    "pairwise_similarity = tfidf * tfidf.T "
   ]
  },
  {
   "cell_type": "code",
   "execution_count": 11,
   "metadata": {},
   "outputs": [
    {
     "data": {
      "text/plain": [
       "<1000x40735 sparse matrix of type '<class 'numpy.float64'>'\n",
       "\twith 339334 stored elements in Compressed Sparse Row format>"
      ]
     },
     "execution_count": 11,
     "metadata": {},
     "output_type": "execute_result"
    }
   ],
   "source": [
    "tfidf"
   ]
  },
  {
   "cell_type": "code",
   "execution_count": 12,
   "metadata": {},
   "outputs": [],
   "source": [
    "#necessary for ensuring we don't just return the same article\n",
    "arr = pairwise_similarity.toarray()     \n",
    "np.fill_diagonal(arr, np.nan)     "
   ]
  },
  {
   "cell_type": "markdown",
   "metadata": {},
   "source": [
    "## Did it work? Let's find out!\n",
    "\n",
    "Let's draw 10 random articles and find the most similar for each one."
   ]
  },
  {
   "cell_type": "code",
   "execution_count": 14,
   "metadata": {},
   "outputs": [
    {
     "name": "stdout",
     "output_type": "stream",
     "text": [
      "1:\n",
      "SAVE FOR LATER ARTICLE: Written in the Body review – subtle meditation on the sense of touch\n",
      "Choreographer Charlotte Spencer probes our experience of the world via our bodies, skin and hands\n",
      "\n",
      "\n",
      "RECOMMENDED ARTICLE: America will never get better if we refuse to diagnose and treat its problems\n",
      "As we endure shooting after shooting, the US starts to seem like a body being attacked from within by some strange and debilitating illness\n",
      "Similarity score: 0.082\n",
      "___________\n",
      "2:\n",
      "SAVE FOR LATER ARTICLE: Karolina Pliskova criticises ‘unfair’ WTA Wimbledon ranking points withdrawal\n",
      "Karolina Pliskova, who reached last year’s Wimbledon final, has said the WTA’s withdrawal of ranking points is ‘a bad decision’\n",
      "\n",
      "\n",
      "RECOMMENDED ARTICLE: Emma Raducanu eager for Wimbledon return despite lack of ranking points\n",
      "Wimbledon has been stripped of ranking points over its ban on Russian and Belarusian players, but Raducanu is ‘still looking forward’ to the tournament\n",
      "Similarity score: 0.502\n",
      "___________\n",
      "3:\n",
      "SAVE FOR LATER ARTICLE: Manchester City apologise after Villa’s Olsen ‘attacked’ during pitch invasion\n",
      "Steven Gerrard claimed his goalkeeper, Robin Olsen, was ‘attacked’ during a pitch invasion after Aston Villa lost 3-2 to Manchester City at the Etihad Stadium on Sunday\n",
      "\n",
      "\n",
      "RECOMMENDED ARTICLE: Manchester City win Premier League as Gündogan seals incredible fightback\n",
      "İlkay Gündogan scored the winner for Manchester City, who secured the Premier League title with 3-2 victory against Aston Villa\n",
      "Similarity score: 0.477\n",
      "___________\n",
      "4:\n",
      "SAVE FOR LATER ARTICLE: Vladimir by Julia May Jonas review – a scandalous affair \n",
      "This clever, engrossing debut about an ageing English literature professor explores female creativity, rage and desire\n",
      "\n",
      "\n",
      "RECOMMENDED ARTICLE: Vladimir by Julia May Jonas review – slippery sexual politics\n",
      "This intelligent and knowing debut about a female academic’s dangerous obsession with a younger professor is less risk-taking than it thinks it is\n",
      "Similarity score: 0.423\n",
      "___________\n",
      "5:\n",
      "SAVE FOR LATER ARTICLE: Cost of living payments and a windfall tax – Rishi Sunak’s measures at a glance\n",
      "Chancellor announces new policies to tackle energy costs and inflation – here are the main points, with political analysis\n",
      "\n",
      "\n",
      "RECOMMENDED ARTICLE: Millions to get cost of living support as Sunak announces grants and windfall tax on oil and gas profits – UK politics live\n",
      "Chancellor says ‘energy profits levy’ will be temporary but will raise around £5bn\n",
      "Similarity score: 0.51\n",
      "___________\n",
      "6:\n",
      "SAVE FOR LATER ARTICLE: Keep your shirt on! The science behind the perfect online dating profile picture\n",
      "According to new research, women rate shirtless men to be lower in social appeal and less competent. What else do you need to know about how to take a successful image for dating apps?\n",
      "\n",
      "\n",
      "RECOMMENDED ARTICLE: The end of men: the controversial new wave of female utopias\n",
      "There have been many novels that imagine a world without men – but are these books reductive or freeing?\n",
      "Similarity score: 0.09\n",
      "___________\n",
      "7:\n",
      "SAVE FOR LATER ARTICLE: Denis Meikle obituary\n",
      "<strong>Other lives:</strong> Film historian and co-founder of Hemlock Books, specialising in film, horror, mystery and the macabre\n",
      "\n",
      "\n",
      "RECOMMENDED ARTICLE: Surgeon casts doubt on Johnny Depp’s account of how he severed finger \n",
      "Richard Moore says he is sceptical of claim that Depp injured finger during Amber Heard fight, as defamation trial enters final week\n",
      "Similarity score: 0.12\n",
      "___________\n",
      "8:\n",
      "SAVE FOR LATER ARTICLE: Frontline workers: how has the cost of living crisis affected your work?\n",
      "We would like to hear from key workers about how the cost of living crisis has affected the communities they work in\n",
      "\n",
      "\n",
      "RECOMMENDED ARTICLE: Tell us: have you made plans to celebrate the Queen’s platinum jubilee?\n",
      "We’d like to hear how people will mark the 70th anniversary of Queen Elizabeth II’s reign\n",
      "Similarity score: 0.698\n",
      "___________\n",
      "9:\n",
      "SAVE FOR LATER ARTICLE: Mercedes are back in F1 title fight, declares upbeat Wolff after car upgrades\n",
      "Lewis Hamilton’s performance at the Spanish Grand Prix has given his Mercedes team belief that they can join the Formula One world championship fight this season\n",
      "\n",
      "\n",
      "RECOMMENDED ARTICLE: Max Verstappen wins dramatic Spanish F1 GP after Charles Leclerc retires\n",
      "The world champion finished a place ahead of Red Bull teammate Sergio Pérez to take the lead in the championship, George Russell claimed third and Lewis Hamilton battled back from an early setback to finish fifth\n",
      "Similarity score: 0.643\n",
      "___________\n"
     ]
    }
   ],
   "source": [
    "for x in range(1, 10):\n",
    "\n",
    "    i = random.randint(0,1000)                                                                                                                                                                                                                                                                                                                                                                                                                                  \n",
    "\n",
    "    input_doc = cleanBody[i]                                                                                                                                                                                                 \n",
    "    input_idx = cleanBody.index(input_doc)                                                                                                                                                                                                                      \n",
    "    input_idx                                                                                                                                                                                                                                              \n",
    "    result_idx = np.nanargmax(arr[input_idx]) \n",
    "    print(\"{}:\".format(x))\n",
    "    print(\"SAVE FOR LATER ARTICLE: {}\".format(headline[i]))\n",
    "    print(\"{}\".format(trailText[i]))\n",
    "\n",
    "    print(\"\\n\")\n",
    "    # print(\"cleanBody[result_idx]   \n",
    "\n",
    "    print(\"RECOMMENDED ARTICLE: {}\".format(headline[result_idx]))\n",
    "    print(\"{}\".format(trailText[result_idx]))\n",
    "    similarity_score = round(arr[input_idx,result_idx], 3)\n",
    "    print(\"Similarity score: {}\".format(similarity_score))\n",
    "    print(\"___________\")"
   ]
  },
  {
   "cell_type": "code",
   "execution_count": null,
   "metadata": {},
   "outputs": [],
   "source": []
  }
 ],
 "metadata": {
  "kernelspec": {
   "display_name": "ml_capi",
   "language": "python",
   "name": "ml_capi"
  },
  "language_info": {
   "codemirror_mode": {
    "name": "ipython",
    "version": 3
   },
   "file_extension": ".py",
   "mimetype": "text/x-python",
   "name": "python",
   "nbconvert_exporter": "python",
   "pygments_lexer": "ipython3",
   "version": "3.10.4"
  },
  "vscode": {
   "interpreter": {
    "hash": "f7d5f047caa9781d537157614e3e4bf0ff375ed37ad5b7d2efb2a07d188de358"
   }
  }
 },
 "nbformat": 4,
 "nbformat_minor": 4
}
