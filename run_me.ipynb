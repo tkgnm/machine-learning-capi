{
 "cells": [
  {
   "cell_type": "code",
   "execution_count": 1,
   "metadata": {},
   "outputs": [],
   "source": [
    "import json\n",
    "import re\n",
    "from sklearn.feature_extraction.text import TfidfVectorizer\n",
    "import numpy as np     \n",
    "import random"
   ]
  },
  {
   "cell_type": "markdown",
   "metadata": {},
   "source": [
    "## Import the data\n",
    " \n",
    "We have five JSON files to parse. Each file is a batch of articles and their associated metadata from The Guardian's Content API (CAPI). With a free developer key, we are limited to only 200 articles per request. With a total of five downloads, this brings the total to 1000 on which we can use. If you'd like to query the API yourself, this repo contains an example query in a .txt file. You can sign up for your own developer key at https://open-platform.theguardian.com/ "
   ]
  },
  {
   "cell_type": "markdown",
   "metadata": {},
   "source": [
    "The JSON files contain many fields that could be useful for the purposes of machine learning. However, we will focus on the following fields for now:\n",
    "\n",
    "- trailtext \n",
    "- headline\n",
    "- body (this is the data we will use for machine learning, the above two merely provide context)\n",
    "\n",
    "We can experiment with the metadata later (such as tags, author etc). Let's initialise our arrays and append with each article's relevant field."
   ]
  },
  {
   "cell_type": "code",
   "execution_count": 2,
   "metadata": {},
   "outputs": [
    {
     "name": "stdout",
     "output_type": "stream",
     "text": [
      "1000\n"
     ]
    }
   ],
   "source": [
    "import json\n",
    "\n",
    "files = [\"search_0.json\", \"search_1.json\", \"search_2.json\", \"search_3.json\", \"search_4.json\"]\n",
    "\n",
    "results = []\n",
    "\n",
    "for file in files:\n",
    "        \n",
    "    # Opening JSON file\n",
    "    f = open(\"articles/\" + file)\n",
    "    \n",
    "    # returns JSON object as \n",
    "    # a dictionary\n",
    "    # print(data)\n",
    "    data = json.load(f)\n",
    "    \n",
    "    # print((data[\"response\"][\"results\"][0]))\n",
    "    \n",
    "    data = data[\"response\"][\"results\"]\n",
    "    \n",
    "    for item in data:\n",
    "        results.append(data)\n",
    "        \n",
    "print (len(results))"
   ]
  },
  {
   "cell_type": "code",
   "execution_count": 3,
   "metadata": {},
   "outputs": [],
   "source": [
    "files = [\"search_0.json\", \"search_1.json\", \"search_2.json\", \"search_3.json\", \"search_4.json\"]\n",
    "\n",
    "headline = []\n",
    "trailText = []\n",
    "body = []\n",
    "\n",
    "for file in files:\n",
    "        \n",
    "    # Opening JSON file\n",
    "    f = open(\"articles/\" + file)\n",
    "    \n",
    "    # returns JSON object as \n",
    "    # a dictionary\n",
    "    data = json.load(f)\n",
    "        \n",
    "    #this is the data that we actually care about\n",
    "    articles = data['response']['results']\n",
    "\n",
    "    for i in range(len(articles)):\n",
    "        headline.append((articles[i][\"fields\"][\"headline\"]))\n",
    "        trailText.append((articles[i][\"fields\"][\"trailText\"]))\n",
    "        body.append((articles[i][\"fields\"][\"body\"]))\n",
    "\n"
   ]
  },
  {
   "cell_type": "markdown",
   "metadata": {},
   "source": [
    "Sanity check the lengths"
   ]
  },
  {
   "cell_type": "code",
   "execution_count": 4,
   "metadata": {},
   "outputs": [
    {
     "data": {
      "text/plain": [
       "(1000, 1000, 1000)"
      ]
     },
     "execution_count": 4,
     "metadata": {},
     "output_type": "execute_result"
    }
   ],
   "source": [
    "len(headline), len(trailText), len(body)"
   ]
  },
  {
   "cell_type": "markdown",
   "metadata": {},
   "source": [
    "## Preprocessing the data\n",
    "\n",
    "We should now clean the data as some of the fields contain HTML (which we don't want). "
   ]
  },
  {
   "cell_type": "code",
   "execution_count": 5,
   "metadata": {},
   "outputs": [],
   "source": [
    "# body[1]"
   ]
  },
  {
   "cell_type": "code",
   "execution_count": 6,
   "metadata": {},
   "outputs": [],
   "source": [
    "htmlRemover = re.compile('<.*?>') \n",
    "newlineRemover = '\\n'\n",
    "\n",
    "# as per recommendation from @freylis, compile once only\n",
    "\n",
    "def cleanhtml(raw_html):\n",
    "    cleantext = re.sub(htmlRemover, '', raw_html)\n",
    "    cleantext = re.sub(newlineRemover, '', cleantext)\n",
    "    return cleantext\n",
    "\n",
    "  "
   ]
  },
  {
   "cell_type": "code",
   "execution_count": 7,
   "metadata": {},
   "outputs": [],
   "source": [
    "cleanTrailText = []\n",
    "cleanBody = []\n",
    "\n",
    "for i in range(len(body)):\n",
    "    cleanTrailText.append(cleanhtml(trailText[i]))\n",
    "    cleanBody.append(cleanhtml(body[i]))"
   ]
  },
  {
   "cell_type": "code",
   "execution_count": 8,
   "metadata": {},
   "outputs": [],
   "source": [
    "# cleanBody[1]"
   ]
  },
  {
   "cell_type": "markdown",
   "metadata": {},
   "source": [
    "## Transform the articles into a sparse matrix based on similarity"
   ]
  },
  {
   "cell_type": "markdown",
   "metadata": {},
   "source": [
    "But first ofcourse, we need to perform a tf-idf transformation"
   ]
  },
  {
   "cell_type": "code",
   "execution_count": 9,
   "metadata": {},
   "outputs": [],
   "source": [
    "vect = TfidfVectorizer(min_df=1, stop_words=\"english\")                                                                                                                                                                                                   \n",
    "tfidf = vect.fit_transform(cleanBody)                                                                                                                                                                                                                       \n",
    "pairwise_similarity = tfidf * tfidf.T "
   ]
  },
  {
   "cell_type": "code",
   "execution_count": 10,
   "metadata": {},
   "outputs": [
    {
     "data": {
      "text/plain": [
       "<1000x40735 sparse matrix of type '<class 'numpy.float64'>'\n",
       "\twith 339334 stored elements in Compressed Sparse Row format>"
      ]
     },
     "execution_count": 10,
     "metadata": {},
     "output_type": "execute_result"
    }
   ],
   "source": [
    "tfidf"
   ]
  },
  {
   "cell_type": "code",
   "execution_count": 11,
   "metadata": {},
   "outputs": [],
   "source": [
    "#necessary for ensuring we don't just return the same article\n",
    "arr = pairwise_similarity.toarray()     \n",
    "np.fill_diagonal(arr, np.nan)     "
   ]
  },
  {
   "cell_type": "markdown",
   "metadata": {},
   "source": [
    "## Did it work? Let's find out!\n",
    "\n",
    "Let's draw 10 random articles and find the most similar for each one."
   ]
  },
  {
   "cell_type": "code",
   "execution_count": 12,
   "metadata": {},
   "outputs": [
    {
     "name": "stdout",
     "output_type": "stream",
     "text": [
      "1:\n",
      "SAVE FOR LATER ARTICLE: Macron accused of betraying pledge to stamp out violence against women\n",
      "Campaigners protest against ‘government of shame’ after minister accused of rape by two women is kept in place\n",
      "\n",
      "\n",
      "RECOMMENDED ARTICLE: French minister refuses to stand down over rape allegations\n",
      "Damien Abad, appointed to the new government on Friday, denies ‘deeply wounding’ accusations\n",
      "Similarity score: 0.569\n",
      "___________\n",
      "2:\n",
      "SAVE FOR LATER ARTICLE: Biden calls for action on gun laws after 21 killed in Texas school shooting – as it happened\n",
      "Three children, aged eight and 10, have been named; US president Joe Biden called for ‘common sense’ legislation after school massacre\n",
      "\n",
      "\n",
      "RECOMMENDED ARTICLE:  Texas school shooting: gunman was inside for 40 minutes, officials say – updates as they happened\n",
      "Texas governor and local officials share more details about the shooting at the Robb elementary school in Uvalde\n",
      "Similarity score: 0.798\n",
      "___________\n",
      "3:\n",
      "SAVE FOR LATER ARTICLE: Cancelling Socrates: how the great philosopher sealed his fate with comedy\n",
      "Playwright Howard Brenton asks why ancient Athens turned on its famous citizen, and how such an uncompromising free-thinker might fare in our own ‘age of rage’\n",
      "\n",
      "\n",
      "RECOMMENDED ARTICLE: America’s billionaire class is funding anti-democratic forces\n",
      "Billionaire donors are pushing an unsettling agenda for America – backing Trump’s lie that the 2020 election was stolen, calling for restrictions on voting and even questioning the value of democracy itself\n",
      "Similarity score: 0.047\n",
      "___________\n",
      "4:\n",
      "SAVE FOR LATER ARTICLE: Support staff at No 10 ‘subjected to bullying for years’, union claims\n",
      "Sue Gray report found cleaners and security guards have been subjected to ‘lack of respect and poor treatment’\n",
      "\n",
      "\n",
      "RECOMMENDED ARTICLE: Half of UK MPs’ staff have clinical levels of psychological distress, study finds\n",
      "Exclusive: Calls grow for culture change as aides say they are at ‘breaking point’ after years of crises\n",
      "Similarity score: 0.265\n",
      "___________\n",
      "5:\n",
      "SAVE FOR LATER ARTICLE: Australia to stand with Pacific islands on climate crisis and ‘respect’ region, Penny Wong says\n",
      "New foreign affairs minister tells Pacific leaders Australia ‘will listen because we care’ after reports China may be seeking security agreement with Kiribati\n",
      "\n",
      "\n",
      "RECOMMENDED ARTICLE: China’s Pacific plan is ‘clear’ but so is Australia’s intention to be regional partner of choice, Penny Wong says\n",
      "As China pursues Pacific-wide security pact, foreign minister says ‘after a lost decade we’ve got a lot of work to do to regain Australia’s position’\n",
      "Similarity score: 0.824\n",
      "___________\n",
      "6:\n",
      "SAVE FOR LATER ARTICLE: Reform cycle to work scheme so it can be used by lower-paid, Sunak urged\n",
      "Business and cycling groups say bike-buying scheme is often out of reach to those who need it most\n",
      "\n",
      "\n",
      "RECOMMENDED ARTICLE: Could strikes solve the cost of living crisis for Britain’s workers?\n",
      "The courage of Britain’s train drivers might provide the inspiration for other workers to fight back against low pay, says Guardian columnist Owen Jones\n",
      "Similarity score: 0.153\n",
      "___________\n",
      "7:\n",
      "SAVE FOR LATER ARTICLE: May design news: self-shaping furniture and the hemp revival\n",
      "Learn to mend and upcycle, futuristic flatpack furniture and weather in a library\n",
      "\n",
      "\n",
      "RECOMMENDED ARTICLE: A slice of Silicon Valley – inside the RCA’s colossal new £135m building\n",
      "The Royal College of Art’s brutalist new building – by architects Herzog &amp; de Meuron – reflects a shift from art school to science-tech powerhouse. But is a business-facing behemoth what its students really need?<br>\n",
      "Similarity score: 0.087\n",
      "___________\n",
      "8:\n",
      "SAVE FOR LATER ARTICLE: Gene editing could increase food security, UK adviser says\n",
      "Legislation introduced in House of Lords aims to help speed up development of gene-edited products\n",
      "\n",
      "\n",
      "RECOMMENDED ARTICLE: Scientists create tomatoes genetically edited to bolster vitamin D levels\n",
      "The tomatoes contain as much provitamin D3 as two eggs, with UK outdoor field trials starting next month\n",
      "Similarity score: 0.364\n",
      "___________\n",
      "9:\n",
      "SAVE FOR LATER ARTICLE: Everyday review – witchy rituals and a search for safety\n",
      "Deafinitely Theatre’s evocative and tender show was inspired by real stories of abuse against deaf women and non-binary people\n",
      "\n",
      "\n",
      "RECOMMENDED ARTICLE: Anne Webster will stand for Nationals deputy, saying party needs ‘not just Queensland’ leadership\n",
      "Victorian MP says Nats need ‘reasonable and stable leadership’ and notes Barnaby Joyce’s description of himself as ‘polarising’\n",
      "Similarity score: 0.109\n",
      "___________\n"
     ]
    }
   ],
   "source": [
    "for x in range(1, 10):\n",
    "\n",
    "    i = random.randint(0,1000)                                                                                                                                                                                                                                                                                                                                                                                                                                  \n",
    "\n",
    "    input_doc = cleanBody[i]                                                                                                                                                                                                 \n",
    "    input_idx = cleanBody.index(input_doc)                                                                                                                                                                                                                      \n",
    "    input_idx                                                                                                                                                                                                                                              \n",
    "    result_idx = np.nanargmax(arr[input_idx]) \n",
    "    print(\"{}:\".format(x))\n",
    "    print(\"SAVE FOR LATER ARTICLE: {}\".format(headline[i]))\n",
    "    print(\"{}\".format(trailText[i]))\n",
    "\n",
    "    print(\"\\n\")\n",
    "    # print(\"cleanBody[result_idx]   \n",
    "\n",
    "    print(\"RECOMMENDED ARTICLE: {}\".format(headline[result_idx]))\n",
    "    print(\"{}\".format(trailText[result_idx]))\n",
    "    similarity_score = round(arr[input_idx,result_idx], 3)\n",
    "    print(\"Similarity score: {}\".format(similarity_score))\n",
    "    print(\"___________\")"
   ]
  },
  {
   "cell_type": "code",
   "execution_count": null,
   "metadata": {},
   "outputs": [],
   "source": []
  },
  {
   "cell_type": "code",
   "execution_count": null,
   "metadata": {},
   "outputs": [],
   "source": []
  },
  {
   "cell_type": "code",
   "execution_count": null,
   "metadata": {},
   "outputs": [],
   "source": []
  }
 ],
 "metadata": {
  "kernelspec": {
   "display_name": "ml_capi",
   "language": "python",
   "name": "ml_capi"
  },
  "language_info": {
   "codemirror_mode": {
    "name": "ipython",
    "version": 3
   },
   "file_extension": ".py",
   "mimetype": "text/x-python",
   "name": "python",
   "nbconvert_exporter": "python",
   "pygments_lexer": "ipython3",
   "version": "3.10.4"
  },
  "vscode": {
   "interpreter": {
    "hash": "f7d5f047caa9781d537157614e3e4bf0ff375ed37ad5b7d2efb2a07d188de358"
   }
  }
 },
 "nbformat": 4,
 "nbformat_minor": 4
}
